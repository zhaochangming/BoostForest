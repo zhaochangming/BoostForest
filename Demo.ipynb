{
 "cells": [
  {
   "cell_type": "raw",
   "metadata": {
    "collapsed": false,
    "pycharm": {
     "name": "#%% raw\n"
    }
   },
   "source": [
    "# BoostForest\n",
    "This page shows some Python demos.\n",
    "``ConcreteFlow.joblib``, ``Sonar.joblib`` and ``Seeds.joblib`` can be downloaded at [data](https://github.com/zhaochangming/BoostForest/tree/main/data)."
   ]
  },
  {
   "cell_type": "raw",
   "metadata": {
    "collapsed": true,
    "pycharm": {
     "name": "#%% raw\n"
    }
   },
   "source": [
    "\n",
    "## BoostForest for Binary Classification\n"
   ]
  },
  {
   "cell_type": "code",
   "execution_count": 1,
   "metadata": {
    "collapsed": false,
    "execution": {
     "iopub.execute_input": "2022-03-19T08:14:34.376337Z",
     "iopub.status.busy": "2022-03-19T08:14:34.373785Z",
     "iopub.status.idle": "2022-03-19T08:14:57.883270Z",
     "shell.execute_reply": "2022-03-19T08:14:57.884053Z"
    },
    "pycharm": {
     "name": "#%%\n"
    }
   },
   "outputs": [
    {
     "name": "stdout",
     "output_type": "stream",
     "text": [
      "ACC of Baseline: 0.929\n",
      "ACC of BoostTree: 0.833\n",
      "ACC of BoostForest: 0.905\n"
     ]
    }
   ],
   "source": [
    "import joblib\n",
    "import numpy as np\n",
    "from BoostForest import BoostTreeClassifier, BoostForestClassifier\n",
    "from sklearn.ensemble import RandomForestClassifier\n",
    "\n",
    "data = joblib.load('data/Sonar.joblib')\n",
    "training_X, training_y = np.r_[data['training_data'], data['eval_data']], np.r_[data['training_label'], data['eval_label']]\n",
    "testing_X, testing_y = data['testing_data'], data['testing_label']\n",
    "model = RandomForestClassifier(n_estimators=50)\n",
    "model.fit(training_X, training_y)\n",
    "print('ACC of Baseline: %.3f' % model.score(testing_X, testing_y))\n",
    "model = BoostTreeClassifier(max_leafs=None, min_sample_leaf_list=5, reg_alpha_list=0.1)\n",
    "model.fit(training_X, training_y)\n",
    "print('ACC of BoostTree: %.3f'% model.score(testing_X, testing_y))\n",
    "model = BoostForestClassifier(max_leafs=None, min_sample_leaf_list=5, reg_alpha_list=0.1, n_estimators=50)\n",
    "model.fit(training_X, training_y)\n",
    "print('ACC of BoostForest: %.3f' % model.score(testing_X, testing_y))\n"
   ]
  },
  {
   "cell_type": "raw",
   "metadata": {
    "collapsed": false,
    "pycharm": {
     "name": "#%% raw\n"
    }
   },
   "source": [
    "\n",
    "## BoostForest for Multi-class Classification\n"
   ]
  },
  {
   "cell_type": "code",
   "execution_count": 2,
   "metadata": {
    "collapsed": false,
    "execution": {
     "iopub.execute_input": "2022-03-19T08:14:57.893953Z",
     "iopub.status.busy": "2022-03-19T08:14:57.893109Z",
     "iopub.status.idle": "2022-03-19T08:15:13.066642Z",
     "shell.execute_reply": "2022-03-19T08:15:13.067610Z"
    },
    "pycharm": {
     "name": "#%%\n"
    }
   },
   "outputs": [
    {
     "name": "stdout",
     "output_type": "stream",
     "text": [
      "ACC of Baseline: 0.881\n",
      "ACC of BoostTree: 0.881\n",
      "ACC of BoostForest: 0.929\n"
     ]
    }
   ],
   "source": [
    "import joblib\n",
    "import numpy as np\n",
    "from BoostForest import BoostTreeClassifier,  BoostForestClassifier\n",
    "from sklearn.ensemble import RandomForestClassifier\n",
    "data = joblib.load('data/Seeds.joblib')\n",
    "training_X, training_y = np.r_[data['training_data'], data['eval_data']], np.r_[data['training_label'], data['eval_label']]\n",
    "testing_X, testing_y = data['testing_data'], data['testing_label']\n",
    "model = RandomForestClassifier(n_estimators=50)\n",
    "model.fit(training_X, training_y)\n",
    "print('ACC of Baseline: %.3f' % model.score(testing_X, testing_y))\n",
    "model = BoostTreeClassifier(max_leafs=None, min_sample_leaf_list=5, reg_alpha_list=0.1)\n",
    "model.fit(training_X, training_y)\n",
    "print('ACC of BoostTree: %.3f'% model.score(testing_X, testing_y))\n",
    "model = BoostForestClassifier(max_leafs=None, min_sample_leaf_list=5, reg_alpha_list=0.1, n_estimators=50)\n",
    "model.fit(training_X, training_y)\n",
    "print('ACC of BoostForest: %.3f' % model.score(testing_X, testing_y))"
   ]
  },
  {
   "cell_type": "raw",
   "metadata": {
    "collapsed": false,
    "pycharm": {
     "name": "#%% raw\n"
    }
   },
   "source": [
    "\n",
    "## BoostForest for Regression"
   ]
  },
  {
   "cell_type": "code",
   "execution_count": 3,
   "metadata": {
    "collapsed": false,
    "execution": {
     "iopub.execute_input": "2022-03-19T08:15:13.078868Z",
     "iopub.status.busy": "2022-03-19T08:15:13.077493Z",
     "iopub.status.idle": "2022-03-19T08:15:21.672531Z",
     "shell.execute_reply": "2022-03-19T08:15:21.673345Z"
    },
    "pycharm": {
     "name": "#%%\n"
    }
   },
   "outputs": [
    {
     "name": "stdout",
     "output_type": "stream",
     "text": [
      "R^2 of Baseline: 0.555\n",
      "R^2 of BoostTree: 0.558\n",
      "R^2 of BoostForest: 0.591\n"
     ]
    }
   ],
   "source": [
    "import joblib\n",
    "import numpy as np\n",
    "from BoostForest import BoostTreeRegressor, BoostForestRegressor\n",
    "from sklearn.ensemble import  RandomForestRegressor\n",
    "data = joblib.load('data/ConcreteFlow.joblib')\n",
    "training_X, training_y = np.r_[data['training_data'], data['eval_data']], np.r_[data['training_label'], data['eval_label']]\n",
    "testing_X, testing_y = data['testing_data'], data['testing_label']\n",
    "model = RandomForestRegressor(n_estimators=50)\n",
    "model.fit(training_X, training_y)\n",
    "print('R^2 of Baseline: %.3f' % model.score(testing_X, testing_y))\n",
    "model = BoostTreeRegressor(max_leafs=None, min_sample_leaf_list=2, reg_alpha_list=0.1)\n",
    "model.fit(training_X, training_y)\n",
    "print('R^2 of BoostTree: %.3f'% model.score(testing_X, testing_y))\n",
    "model = BoostForestRegressor(max_leafs=None, min_sample_leaf_list=2, reg_alpha_list=0.1, n_estimators=50)\n",
    "model.fit(training_X, training_y)\n",
    "print('R^2 of BoostForest: %.3f' % model.score(testing_X, testing_y))"
   ]
  }
 ],
 "metadata": {
  "kernelspec": {
   "display_name": "Python 3",
   "language": "python",
   "name": "python3"
  },
  "language_info": {
   "codemirror_mode": {
    "name": "ipython",
    "version": 3
   },
   "file_extension": ".py",
   "mimetype": "text/x-python",
   "name": "python",
   "nbconvert_exporter": "python",
   "pygments_lexer": "ipython3",
   "version": "3.6.8"
  }
 },
 "nbformat": 4,
 "nbformat_minor": 0
}